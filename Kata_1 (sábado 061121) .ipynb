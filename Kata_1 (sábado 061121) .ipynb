{
 "cells": [
  {
   "cell_type": "code",
   "execution_count": null,
   "id": "4251da29",
   "metadata": {},
   "outputs": [],
   "source": [
    "#Balanced number is the number that * #The sum of all digits to the left of the middle digit(s) #and the sum of all digits to the right of the middle digit(s) are equal*.\n",
    "\n",
    "import random\n",
    "\n",
    "number = random.randint(1, 999999999) \n",
    "\n",
    "def balanced_num(number): \n",
    "       \n",
    "    number = str(number) # para tratar el valor como una lista.\n",
    "\n",
    "    largo = int(len(number))\n",
    "    suma_izquierda = 0\n",
    "    suma_derecha = 0\n",
    "\n",
    "    if largo<=2:\n",
    "        print(\"Balanced\")\n",
    "        result = \"Balanced\"\n",
    "\n",
    "    elif largo==0:\n",
    "        mitad = (largo / 2)\n",
    "        print(mitad)\n",
    "\n",
    "        for i in range(0, int(mitad) - 1):\n",
    "            suma_izquierda = suma_izquierda + int(number[i])\n",
    "\n",
    "        for x in range(int(mitad) + 1,(largo)):\n",
    "            suma_derecha = suma_derecha + int(number[x])    \n",
    "\n",
    "    elif largo%2>0:\n",
    "        mitad_i = round(largo/2,2)\n",
    "        mitad_d = int(mitad_i + 1)\n",
    "\n",
    "        for i in range(0, int(mitad_i)):\n",
    "            suma_izquierda = suma_izquierda + int(number[i])\n",
    "\n",
    "        for x in range(int(mitad_d),(largo)):\n",
    "            suma_derecha = suma_derecha + int(number[x])    \n",
    "\n",
    "\n",
    "    if suma_izquierda==suma_derecha:\n",
    "        result = \"Balanced\"\n",
    "    elif suma_izquierda!=suma_derecha:\n",
    "        result = \"Not Balanced\"\n",
    "\n",
    "    return result\n"
   ]
  }
 ],
 "metadata": {
  "kernelspec": {
   "display_name": "Python 3 (ipykernel)",
   "language": "python",
   "name": "python3"
  },
  "language_info": {
   "codemirror_mode": {
    "name": "ipython",
    "version": 3
   },
   "file_extension": ".py",
   "mimetype": "text/x-python",
   "name": "python",
   "nbconvert_exporter": "python",
   "pygments_lexer": "ipython3",
   "version": "3.7.11"
  }
 },
 "nbformat": 4,
 "nbformat_minor": 5
}
